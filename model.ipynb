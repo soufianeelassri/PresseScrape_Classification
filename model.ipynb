{
 "cells": [
  {
   "cell_type": "code",
   "execution_count": 24,
   "id": "90c63544-6866-41fa-a33a-020820ab15c7",
   "metadata": {},
   "outputs": [],
   "source": [
    "import pandas as pd\n",
    "import json\n",
    "from string import punctuation\n",
    "from sklearn.feature_extraction.text import CountVectorizer\n",
    "from sklearn.svm import SVC\n",
    "from sklearn.model_selection import train_test_split, cross_val_score\n",
    "from sklearn.metrics import confusion_matrix\n",
    "from sklearn.metrics import classification_report, accuracy_score\n",
    "import matplotlib.pyplot as plt\n",
    "import seaborn as sns\n",
    "from nltk.stem.isri import ISRIStemmer\n",
    "import nltk\n",
    "from nltk.tokenize import word_tokenize\n",
    "from nltk.corpus import stopwords\n",
    "from sklearn.feature_extraction.text import TfidfVectorizer\n",
    "from sklearn.naive_bayes import MultinomialNB\n",
    "from sklearn.pipeline import Pipeline\n",
    "import numpy as np\n",
    "from sklearn.feature_extraction.text import TfidfVectorizer\n",
    "from sklearn.pipeline import Pipeline\n",
    "from sklearn.svm import SVC\n",
    "from sklearn.naive_bayes import MultinomialNB\n",
    "from sklearn.ensemble import RandomForestClassifier\n",
    "from sklearn.model_selection import GridSearchCV\n",
    "from sklearn.metrics import classification_report\n",
    "from sklearn.linear_model import LogisticRegression\n",
    "import joblib"
   ]
  },
  {
   "cell_type": "markdown",
   "id": "3f7f8af2-cf61-4847-aa6a-30cc9e2b9262",
   "metadata": {},
   "source": [
    "## Loading data ..."
   ]
  },
  {
   "cell_type": "code",
   "execution_count": 2,
   "id": "d9ca527a-0771-40e4-951b-e92659515019",
   "metadata": {},
   "outputs": [
    {
     "data": {
      "text/html": [
       "<div>\n",
       "<style scoped>\n",
       "    .dataframe tbody tr th:only-of-type {\n",
       "        vertical-align: middle;\n",
       "    }\n",
       "\n",
       "    .dataframe tbody tr th {\n",
       "        vertical-align: top;\n",
       "    }\n",
       "\n",
       "    .dataframe thead th {\n",
       "        text-align: right;\n",
       "    }\n",
       "</style>\n",
       "<table border=\"1\" class=\"dataframe\">\n",
       "  <thead>\n",
       "    <tr style=\"text-align: right;\">\n",
       "      <th></th>\n",
       "      <th>title</th>\n",
       "      <th>category</th>\n",
       "      <th>key_words</th>\n",
       "      <th>source</th>\n",
       "      <th>year</th>\n",
       "      <th>month</th>\n",
       "      <th>month_name</th>\n",
       "      <th>day</th>\n",
       "      <th>day_name</th>\n",
       "      <th>hour</th>\n",
       "      <th>minute</th>\n",
       "      <th>key_point</th>\n",
       "    </tr>\n",
       "  </thead>\n",
       "  <tbody>\n",
       "    <tr>\n",
       "      <th>0</th>\n",
       "      <td>تراجع المساحات المزروعة بالمغرب يعيد النظر فرض...</td>\n",
       "      <td>اقتصاد</td>\n",
       "      <td>الاقتصاد, المساحات المزروعة, المناخ, محمد صديقي</td>\n",
       "      <td>هسبريس - أمال كنين</td>\n",
       "      <td>2024</td>\n",
       "      <td>4</td>\n",
       "      <td>أبريل</td>\n",
       "      <td>21</td>\n",
       "      <td>الأحد</td>\n",
       "      <td>15</td>\n",
       "      <td>38</td>\n",
       "      <td>المؤكد المعطيات المناخية للمملكة تغيرت بشكل مس...</td>\n",
       "    </tr>\n",
       "    <tr>\n",
       "      <th>1</th>\n",
       "      <td>تحصيل غرامات مخالفات للسير يوقف عمليات توثيق ع...</td>\n",
       "      <td>اقتصاد</td>\n",
       "      <td>العقار, المجلس الأعلى للحسابات, رقمنة التوثيق,...</td>\n",
       "      <td>هسبريس - بدر الدين عتيقي</td>\n",
       "      <td>2024</td>\n",
       "      <td>4</td>\n",
       "      <td>أبريل</td>\n",
       "      <td>21</td>\n",
       "      <td>الأحد</td>\n",
       "      <td>14</td>\n",
       "      <td>0</td>\n",
       "      <td>وأكد تقرير سابق للمجلس الأعلى للحسابات عملية ت...</td>\n",
       "    </tr>\n",
       "    <tr>\n",
       "      <th>2</th>\n",
       "      <td>بورصة البيضاء تنهي تداولات الأسبوع بالأخضر</td>\n",
       "      <td>اقتصاد</td>\n",
       "      <td>الدار البيضاء, بورصة, مازي</td>\n",
       "      <td>هسبريس - و.م.ع</td>\n",
       "      <td>2024</td>\n",
       "      <td>4</td>\n",
       "      <td>أبريل</td>\n",
       "      <td>21</td>\n",
       "      <td>الأحد</td>\n",
       "      <td>13</td>\n",
       "      <td>16</td>\n",
       "      <td>صعيد القيم الفردية تم تسجيل أقوى ارتفاعات الأس...</td>\n",
       "    </tr>\n",
       "    <tr>\n",
       "      <th>3</th>\n",
       "      <td>Sketch تفتتح متجرا جديدا للأثاث بالرباط</td>\n",
       "      <td>اقتصاد</td>\n",
       "      <td>Sketch, الأثاث, الرباط</td>\n",
       "      <td>هسبريس من الرباط</td>\n",
       "      <td>2024</td>\n",
       "      <td>4</td>\n",
       "      <td>أبريل</td>\n",
       "      <td>21</td>\n",
       "      <td>الأحد</td>\n",
       "      <td>13</td>\n",
       "      <td>1</td>\n",
       "      <td>وت فيد المعطيات صر ح مدير عام المجموعة المتجر ...</td>\n",
       "    </tr>\n",
       "    <tr>\n",
       "      <th>4</th>\n",
       "      <td>المغرب يعرض بجنيف سياسته التجارية</td>\n",
       "      <td>اقتصاد</td>\n",
       "      <td>الاقتصاد المغربي, التجارة, كورونا</td>\n",
       "      <td>هسبريس - و.م.ع</td>\n",
       "      <td>2024</td>\n",
       "      <td>4</td>\n",
       "      <td>أبريل</td>\n",
       "      <td>21</td>\n",
       "      <td>الأحد</td>\n",
       "      <td>11</td>\n",
       "      <td>17</td>\n",
       "      <td>وسيتم تسليط الضوء إطار الإجراء مناخ الأعمال وا...</td>\n",
       "    </tr>\n",
       "  </tbody>\n",
       "</table>\n",
       "</div>"
      ],
      "text/plain": [
       "                                               title category  \\\n",
       "0  تراجع المساحات المزروعة بالمغرب يعيد النظر فرض...   اقتصاد   \n",
       "1  تحصيل غرامات مخالفات للسير يوقف عمليات توثيق ع...   اقتصاد   \n",
       "2         بورصة البيضاء تنهي تداولات الأسبوع بالأخضر   اقتصاد   \n",
       "3            Sketch تفتتح متجرا جديدا للأثاث بالرباط   اقتصاد   \n",
       "4                  المغرب يعرض بجنيف سياسته التجارية   اقتصاد   \n",
       "\n",
       "                                           key_words  \\\n",
       "0    الاقتصاد, المساحات المزروعة, المناخ, محمد صديقي   \n",
       "1  العقار, المجلس الأعلى للحسابات, رقمنة التوثيق,...   \n",
       "2                         الدار البيضاء, بورصة, مازي   \n",
       "3                             Sketch, الأثاث, الرباط   \n",
       "4                  الاقتصاد المغربي, التجارة, كورونا   \n",
       "\n",
       "                     source  year  month month_name  day day_name  hour  \\\n",
       "0        هسبريس - أمال كنين  2024      4      أبريل   21    الأحد    15   \n",
       "1  هسبريس - بدر الدين عتيقي  2024      4      أبريل   21    الأحد    14   \n",
       "2            هسبريس - و.م.ع  2024      4      أبريل   21    الأحد    13   \n",
       "3          هسبريس من الرباط  2024      4      أبريل   21    الأحد    13   \n",
       "4            هسبريس - و.م.ع  2024      4      أبريل   21    الأحد    11   \n",
       "\n",
       "   minute                                          key_point  \n",
       "0      38  المؤكد المعطيات المناخية للمملكة تغيرت بشكل مس...  \n",
       "1       0  وأكد تقرير سابق للمجلس الأعلى للحسابات عملية ت...  \n",
       "2      16  صعيد القيم الفردية تم تسجيل أقوى ارتفاعات الأس...  \n",
       "3       1  وت فيد المعطيات صر ح مدير عام المجموعة المتجر ...  \n",
       "4      17  وسيتم تسليط الضوء إطار الإجراء مناخ الأعمال وا...  "
      ]
     },
     "execution_count": 2,
     "metadata": {},
     "output_type": "execute_result"
    }
   ],
   "source": [
    "with open('hespress_analysis.json', 'r', encoding='utf-8') as fichier_json:\n",
    "    data = json.load(fichier_json)\n",
    "data = pd.DataFrame(data)\n",
    "data.head()"
   ]
  },
  {
   "cell_type": "code",
   "execution_count": 3,
   "id": "ae8c4f0e-fd66-4710-8723-ae0fcca580ad",
   "metadata": {},
   "outputs": [],
   "source": [
    "data['key_point'] = data['key_words'] + ' ' + data['key_point']"
   ]
  },
  {
   "cell_type": "code",
   "execution_count": 4,
   "id": "bd9257ef-6c40-4bfe-a2a3-e2b8124bc436",
   "metadata": {},
   "outputs": [],
   "source": [
    "def checkAlpha(text):\n",
    "    return ' '.join([word for word in text.split() if word.isalpha() or word != ','])\n",
    "data['key_point'] = data['key_point'].apply(lambda x : checkAlpha(x))"
   ]
  },
  {
   "cell_type": "code",
   "execution_count": 5,
   "id": "c018d52f-3a8f-4495-9c0d-18f85643990a",
   "metadata": {},
   "outputs": [],
   "source": [
    "from string import punctuation\n",
    "def remove_punctuation(text):\n",
    "    # Votre code ici\n",
    "    return ''.join([word for word in text if word not in punctuation])\n",
    "data['key_point'] = data['key_point'].apply(lambda x : remove_punctuation(x))"
   ]
  },
  {
   "cell_type": "markdown",
   "id": "8e3035d4-cb25-4de3-9f95-847eec3dc9f2",
   "metadata": {},
   "source": [
    "## Spliting data (train , test)"
   ]
  },
  {
   "cell_type": "code",
   "execution_count": 6,
   "id": "52d75c7e-f08b-4ce7-bced-83e2f14ba6b0",
   "metadata": {},
   "outputs": [],
   "source": [
    "X_train, X_test, y_train, y_test = train_test_split(data['key_point'], data['category'] ,test_size=0.2)"
   ]
  },
  {
   "cell_type": "markdown",
   "id": "e30f9012-86c8-4dfe-ba54-68077b5af93f",
   "metadata": {},
   "source": [
    "## SVM"
   ]
  },
  {
   "cell_type": "code",
   "execution_count": 7,
   "id": "7ce16d92-0b44-4e87-b351-3cb18ebb7c19",
   "metadata": {},
   "outputs": [
    {
     "name": "stdout",
     "output_type": "stream",
     "text": [
      "SVM Classifier Accuracy: 0.9567251461988304\n"
     ]
    }
   ],
   "source": [
    "svm_classifier = SVC(kernel=\"linear\", probability=True)\n",
    "\n",
    "svm_model = Pipeline([\n",
    "    ('tfidf', TfidfVectorizer()),\n",
    "    ('classifier', svm_classifier)\n",
    "])\n",
    "\n",
    "svm_model.fit(X_train, y_train)\n",
    "\n",
    "y_pred_svm = svm_model.predict(X_test)\n",
    "print(\"SVM Classifier Accuracy:\", accuracy_score(y_test, y_pred_svm))\n"
   ]
  },
  {
   "cell_type": "markdown",
   "id": "ed5d4767-980c-4e3f-bbbe-61c6f1b6bfbd",
   "metadata": {},
   "source": [
    "## Naive Bayes"
   ]
  },
  {
   "cell_type": "code",
   "execution_count": 8,
   "id": "7f543402-e64f-4555-b3e1-ee70a5aa9cbe",
   "metadata": {},
   "outputs": [
    {
     "name": "stdout",
     "output_type": "stream",
     "text": [
      "Naive Bayes Classifier Accuracy: 0.928654970760234\n"
     ]
    }
   ],
   "source": [
    "nb_classifier = MultinomialNB()\n",
    "\n",
    "nb_model = Pipeline([\n",
    "    ('tfidf', TfidfVectorizer()),\n",
    "    ('classifier', nb_classifier)\n",
    "])\n",
    "\n",
    "nb_model.fit(X_train, y_train)\n",
    "\n",
    "y_pred_nb = nb_model.predict(X_test)\n",
    "print(\"Naive Bayes Classifier Accuracy:\", accuracy_score(y_test, y_pred_nb))\n"
   ]
  },
  {
   "cell_type": "markdown",
   "id": "efa1538f-3568-4591-b078-142dbac3607b",
   "metadata": {},
   "source": [
    "## Random Forest"
   ]
  },
  {
   "cell_type": "code",
   "execution_count": 9,
   "id": "a34245da-db21-468c-93e6-aa14fb619299",
   "metadata": {},
   "outputs": [
    {
     "name": "stdout",
     "output_type": "stream",
     "text": [
      "Random Forest Classifier Accuracy: 0.9263157894736842\n"
     ]
    }
   ],
   "source": [
    "rf_classifier = RandomForestClassifier()\n",
    "\n",
    "rf_model = Pipeline([\n",
    "    ('tfidf', TfidfVectorizer()),\n",
    "    ('classifier', rf_classifier)\n",
    "])\n",
    "\n",
    "rf_model.fit(X_train, y_train)\n",
    "\n",
    "y_pred_rf = rf_model.predict(X_test)\n",
    "print(\"Random Forest Classifier Accuracy:\", accuracy_score(y_test, y_pred_rf))"
   ]
  },
  {
   "cell_type": "markdown",
   "id": "3cfdf21b-77e7-40ee-a4e9-c6bdac4ef45c",
   "metadata": {},
   "source": [
    "## Logistic Regression"
   ]
  },
  {
   "cell_type": "code",
   "execution_count": 10,
   "id": "46a7405b-dc7d-459f-bac6-e0bb25d37045",
   "metadata": {},
   "outputs": [
    {
     "name": "stdout",
     "output_type": "stream",
     "text": [
      "Logistic Regression Classifier Accuracy: 0.9461988304093567\n"
     ]
    }
   ],
   "source": [
    "lr_classifier = LogisticRegression(max_iter=1000)\n",
    "\n",
    "lr_model = Pipeline([\n",
    "    ('tfidf', TfidfVectorizer()),\n",
    "    ('classifier', lr_classifier)\n",
    "])\n",
    "\n",
    "lr_model.fit(X_train, y_train)\n",
    "\n",
    "y_pred_lr = lr_model.predict(X_test)\n",
    "print(\"Logistic Regression Classifier Accuracy:\", accuracy_score(y_test, y_pred_lr))"
   ]
  },
  {
   "cell_type": "markdown",
   "id": "283762f1-ae39-439d-a442-4331504e75f8",
   "metadata": {},
   "source": [
    "## Svm Evaluation "
   ]
  },
  {
   "cell_type": "code",
   "execution_count": 26,
   "id": "3867d9b4-065f-4e4d-a95b-35a7ed9763bb",
   "metadata": {},
   "outputs": [
    {
     "name": "stdout",
     "output_type": "stream",
     "text": [
      "              precision    recall  f1-score   support\n",
      "\n",
      "      اقتصاد       0.95      0.94      0.94       232\n",
      "       رياضة       1.00      0.98      0.99       201\n",
      "       سياسة       0.93      0.93      0.93       207\n",
      "   فن وثقافة       0.95      0.99      0.97       215\n",
      "\n",
      "    accuracy                           0.96       855\n",
      "   macro avg       0.96      0.96      0.96       855\n",
      "weighted avg       0.96      0.96      0.96       855\n",
      "\n"
     ]
    }
   ],
   "source": [
    "print(classification_report(y_test, y_pred_svm))"
   ]
  },
  {
   "cell_type": "code",
   "execution_count": 56,
   "id": "a0c674ec-048a-43c0-bf0f-cc2407b02125",
   "metadata": {},
   "outputs": [
    {
     "name": "stdout",
     "output_type": "stream",
     "text": [
      "['Economy', 'Sports', 'Politics', 'Culture']\n"
     ]
    },
    {
     "data": {
      "image/png": "[encoded data removed]",
      "text/plain": [
       "<Figure size 800x500 with 2 Axes>"
      ]
     },
     "metadata": {},
     "output_type": "display_data"
    }
   ],
   "source": [
    "noms_classes = ['Economy' ,'Sports','Politics', 'Culture' ]\n",
    "print(noms_classes)\n",
    "conf_matrix = confusion_matrix(y_test, y_pred_svm)\n",
    "\n",
    "plt.figure(figsize=(8, 5))\n",
    "sns.heatmap(conf_matrix, annot=True, fmt='d', cmap='Reds',xticklabels=noms_classes, yticklabels=noms_classes)\n",
    "plt.xlabel('Prédictions')\n",
    "plt.ylabel('Vraies étiquettes')\n",
    "plt.title('Matrice de confusion')\n",
    "\n",
    "plt.xticks(rotation=0, ha='right')\n",
    "plt.yticks(rotation=0)\n",
    "\n",
    "plt.show()"
   ]
  },
  {
   "cell_type": "code",
   "execution_count": 18,
   "id": "ed2c3599-12d8-45f0-9c88-6caa29f62f14",
   "metadata": {},
   "outputs": [
    {
     "name": "stdin",
     "output_type": "stream",
     "text": [
      "Entrer votre article :  طق الجافة والمهددة بمعرفة تداعيات خطيرة بسبب التقلبات المناخية يعرفها العالم وتعرفها الكرة الأرضية ونبه العرب تصريح لهسبريس المغرب يوجد حزام جغرافي ومناخي الأخطر المستوى العالمي وهناك دراسات تدل أفق 2050 منطقة حوض البحر الأبيض المتوسط المنطقة الأكثر جفافا ستعرف تداعيات يسمى الاحتباس الحراري رأسها مسألة الجفاف والتصحر وتراجع المساحات المزروعة ذلك وأشار الخبير الاقتصادي المعطيات الجديدة أكد خلالها وزير الفلاحة المساحات المزروعة المملكة تراجعت السنة بـ31 المائة تؤكد أننا أصبحنا نعيش حالة عادية بالنسبة للمملكة ويجب الحكومة والدولة تأخذ بعين الاعتبار المعطى كمحدد أساسي يتعلق بمستقبل الاستراتيجيات الاقتصادية والتنموية للمملكة ودعا المتحدث ذاته ضرورة الاعتراف بأن المملكة تعد بلدا فلاحيا النشاط الفلاحي المغرب سيتراجع نظرا لتراجع التساقطات المطرية تفرض تراجعا المساحات المزروعة منبها ضرورة المراهنة الرفع فعالية القطاع الفلاحي والرفع فعالية الأنشطة الفلاحية جميع المستويات فاعلية المساحات المسقية فعالية مجهود السقي خاصة يتعلق بضرورة تعميم السقي بالتنقيط دعا العرب رفع فعالية الأنشطة الفلاحية يتعلق بتقنية الإنتاج بفضل تعميم مساعدات مستوى الأسمدة والمغرب أول منتج العالم للأسمدة النباتية يزال الفلاح للأسف يعاني أثمنة مرتفعة مشيرا المغرب المستوى الاقتصادي يجب يتحول اقتصاد فلاحي تقليدي تغلب الفلاحة المعيشية تشكل حوالي 75 المائة المساحات المزروعة تنويع النشاط الاقتصادي ونبه النشاط الاقتصادي يتأثر بصفة عامة بحجم التساقطات يجب العمل الحد تست\n"
     ]
    },
    {
     "data": {
      "text/plain": [
       "array(['اقتصاد'], dtype=object)"
      ]
     },
     "execution_count": 18,
     "metadata": {},
     "output_type": "execute_result"
    }
   ],
   "source": [
    "article = input('Entrer votre article : ')\n",
    "svm_model.predict([article])"
   ]
  },
  {
   "cell_type": "code",
   "execution_count": 25,
   "id": "070359e3-1c87-4f46-b1ac-775eacb222c5",
   "metadata": {},
   "outputs": [
    {
     "data": {
      "text/plain": [
       "['svm_model.pkl']"
      ]
     },
     "execution_count": 25,
     "metadata": {},
     "output_type": "execute_result"
    }
   ],
   "source": [
    "joblib.dump(svm_model, 'svm_model.pkl')"
   ]
  },
  {
   "cell_type": "code",
   "execution_count": 1,
   "id": "bfff0306-9b3a-4030-beff-6df74a23c6fd",
   "metadata": {},
   "outputs": [],
   "source": [
    "import joblib\n",
    "\n",
    "svm_model = joblib.load('svm_model.pkl')"
   ]
  },
  {
   "cell_type": "code",
   "execution_count": 3,
   "id": "9e676357-e26d-424c-9c81-c0d42bf9b70a",
   "metadata": {},
   "outputs": [
    {
     "name": "stdin",
     "output_type": "stream",
     "text": [
      "Entrer votre article :  لم يكن المهاجم الدولي المغربي أيوب الكعبي ليحلم بالوصول إلى ما حققه مساء الأربعاء، في أثينا، حين تسبب زلزال تركيا بمغادرته فريقه هاتاي سبور للبحث عن بديل كان “السد القطري” الذي شكل محطة عبوره نحو الانتقال إلى أولمبياكوس اليوناني.  وحتى إن أولمبياكوس لم يكن في حساباته على الإطلاق حين تعاقد مع المغربي بأنه سيحقق ما عجزت عنه جميع الأندية اليونانية مجتمعة، وهو منح البلاد لقبها القاري الأوّل.  لكن هذا الأمر تحقق مساء الأربعاء على الأراضي اليونانية، في العاصمة أثينا بالتحديد، حين تغلب أولمبياكوس على فيورنتينا الإيطالي في نهائي مسابقة “كونفرنس ليغ” بهدف وحيد سجله قبل أربع دقائق على نهاية الشوط الإضافي الثاني\n"
     ]
    },
    {
     "data": {
      "text/plain": [
       "array(['رياضة'], dtype=object)"
      ]
     },
     "execution_count": 3,
     "metadata": {},
     "output_type": "execute_result"
    }
   ],
   "source": [
    "article = input('Entrer votre article : ')\n",
    "svm_model.predict([article])"
   ]
  },
  {
   "cell_type": "code",
   "execution_count": null,
   "id": "38b3e1d9-1452-41aa-b3d2-1fcb638c58bf",
   "metadata": {},
   "outputs": [],
   "source": []
  }
 ],
 "metadata": {
  "kernelspec": {
   "display_name": "Python 3 (ipykernel)",
   "language": "python",
   "name": "python3"
  },
  "language_info": {
   "codemirror_mode": {
    "name": "ipython",
    "version": 3
   },
   "file_extension": ".py",
   "mimetype": "text/x-python",
   "name": "python",
   "nbconvert_exporter": "python",
   "pygments_lexer": "ipython3",
   "version": "3.11.5"
  }
 },
 "nbformat": 4,
 "nbformat_minor": 5
}
